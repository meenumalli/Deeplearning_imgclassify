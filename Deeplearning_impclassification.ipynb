{
  "nbformat": 4,
  "nbformat_minor": 0,
  "metadata": {
    "colab": {
      "provenance": [],
      "collapsed_sections": []
    },
    "kernelspec": {
      "name": "python3",
      "display_name": "Python 3"
    },
    "language_info": {
      "name": "python"
    },
    "accelerator": "GPU"
  },
  "cells": [
    {
      "cell_type": "code",
      "execution_count": 40,
      "metadata": {
        "id": "Bnt1JpX0RHFo"
      },
      "outputs": [],
      "source": [
        "import tensorflow as tf\n",
        "from keras.preprocessing.image import ImageDataGenerator"
      ]
    },
    {
      "cell_type": "code",
      "source": [
        "import tensorflow as tf\n",
        "tf.test.gpu_device_name()"
      ],
      "metadata": {
        "colab": {
          "base_uri": "https://localhost:8080/",
          "height": 35
        },
        "id": "gPBTDjJLR1UW",
        "outputId": "eb10e899-666b-45a2-c883-751ea5003c64"
      },
      "execution_count": 41,
      "outputs": [
        {
          "output_type": "execute_result",
          "data": {
            "text/plain": [
              "'/device:GPU:0'"
            ],
            "application/vnd.google.colaboratory.intrinsic+json": {
              "type": "string"
            }
          },
          "metadata": {},
          "execution_count": 41
        }
      ]
    },
    {
      "cell_type": "code",
      "source": [
        "train_datagen = ImageDataGenerator(rescale = 1./255,\n",
        "                                   shear_range = 0.2,\n",
        "                                   zoom_range = 0.2,\n",
        "                                   horizontal_flip = True)\n"
      ],
      "metadata": {
        "id": "HjGQeCqPSDb0"
      },
      "execution_count": 42,
      "outputs": []
    },
    {
      "cell_type": "code",
      "source": [
        "training_set = train_datagen.flow_from_directory(directory='/content/sample_data/train',\n",
        "                                                 subset=\"training\", \n",
        "                                                 target_size = (64, 64),\n",
        "                                                 batch_size = 32,\n",
        "                                                 )"
      ],
      "metadata": {
        "colab": {
          "base_uri": "https://localhost:8080/"
        },
        "id": "_h6_itaaZFkB",
        "outputId": "b59aa357-8d65-4ad0-8fbc-a7d4fe7d5af9"
      },
      "execution_count": 43,
      "outputs": [
        {
          "output_type": "stream",
          "name": "stdout",
          "text": [
            "Found 1002 images belonging to 3 classes.\n"
          ]
        }
      ]
    },
    {
      "cell_type": "code",
      "source": [
        "test_datagen = ImageDataGenerator(rescale = 1./255)\n",
        "test_set = test_datagen.flow_from_directory(directory='/content/sample_data/test',\n",
        "                                            target_size = (64, 64),\n",
        "                                            batch_size = 32,\n",
        "                                            )"
      ],
      "metadata": {
        "id": "xNOze8lfY_m-",
        "colab": {
          "base_uri": "https://localhost:8080/"
        },
        "outputId": "50bf39a3-bc55-4199-86ad-a4a6ab02d887"
      },
      "execution_count": 44,
      "outputs": [
        {
          "output_type": "stream",
          "name": "stdout",
          "text": [
            "Found 45 images belonging to 2 classes.\n"
          ]
        }
      ]
    },
    {
      "cell_type": "code",
      "source": [
        "cnn = tf.keras.models.Sequential()\n"
      ],
      "metadata": {
        "id": "hTcW_tBO6Ty0"
      },
      "execution_count": 45,
      "outputs": []
    },
    {
      "cell_type": "code",
      "source": [
        "cnn.add(tf.keras.layers.Conv2D(filters=32, kernel_size=3, activation='relu', input_shape=[64, 64, 3]))\n"
      ],
      "metadata": {
        "id": "2Ht6uSx96Ty1"
      },
      "execution_count": 46,
      "outputs": []
    },
    {
      "cell_type": "code",
      "source": [
        "cnn.add(tf.keras.layers.MaxPool2D(pool_size=2, strides=2))\n"
      ],
      "metadata": {
        "id": "LTAC0ymj6k_P"
      },
      "execution_count": 47,
      "outputs": []
    },
    {
      "cell_type": "code",
      "source": [
        "cnn.add(tf.keras.layers.Conv2D(filters=32, kernel_size=3, activation='relu'))\n",
        "cnn.add(tf.keras.layers.MaxPool2D(pool_size=2, strides=2))"
      ],
      "metadata": {
        "id": "P12NZcTw6soI"
      },
      "execution_count": 48,
      "outputs": []
    },
    {
      "cell_type": "code",
      "source": [
        "cnn.add(tf.keras.layers.Flatten())\n"
      ],
      "metadata": {
        "id": "ClmD977-6wQM"
      },
      "execution_count": 49,
      "outputs": []
    },
    {
      "cell_type": "code",
      "source": [
        "cnn.add(tf.keras.layers.Dense(units=128, activation='relu'))\n"
      ],
      "metadata": {
        "id": "2FbEfUFd6zg7"
      },
      "execution_count": 50,
      "outputs": []
    },
    {
      "cell_type": "code",
      "source": [
        "cnn.add(tf.keras.layers.Dense(units=3, activation='softmax'))\n"
      ],
      "metadata": {
        "id": "XVb2aeq89Jf0"
      },
      "execution_count": 51,
      "outputs": []
    },
    {
      "cell_type": "code",
      "source": [
        "cnn.compile(optimizer = 'adam', loss = 'categorical_crossentropy', metrics = ['accuracy'])\n"
      ],
      "metadata": {
        "id": "PpGOo2woDOXw"
      },
      "execution_count": 52,
      "outputs": []
    },
    {
      "cell_type": "code",
      "source": [
        "cnn.fit(x = training_set, epochs = 25)\n",
        "#cnn.fit(x = training_set, validation_data = test_set, epochs = 25)\n"
      ],
      "metadata": {
        "colab": {
          "base_uri": "https://localhost:8080/"
        },
        "id": "OqxCvRoD66rM",
        "outputId": "bceb7dec-7afb-4c6c-cac9-9d6e1910e6ff"
      },
      "execution_count": 53,
      "outputs": [
        {
          "output_type": "stream",
          "name": "stdout",
          "text": [
            "Epoch 1/25\n",
            "32/32 [==============================] - 4s 116ms/step - loss: 0.7258 - accuracy: 0.5160\n",
            "Epoch 2/25\n",
            "32/32 [==============================] - 4s 116ms/step - loss: 0.6543 - accuracy: 0.6038\n",
            "Epoch 3/25\n",
            "32/32 [==============================] - 4s 115ms/step - loss: 0.6334 - accuracy: 0.6387\n",
            "Epoch 4/25\n",
            "32/32 [==============================] - 4s 114ms/step - loss: 0.6079 - accuracy: 0.6617\n",
            "Epoch 5/25\n",
            "32/32 [==============================] - 4s 116ms/step - loss: 0.5876 - accuracy: 0.6896\n",
            "Epoch 6/25\n",
            "32/32 [==============================] - 4s 123ms/step - loss: 0.5785 - accuracy: 0.6856\n",
            "Epoch 7/25\n",
            "32/32 [==============================] - 4s 114ms/step - loss: 0.5510 - accuracy: 0.7216\n",
            "Epoch 8/25\n",
            "32/32 [==============================] - 4s 114ms/step - loss: 0.5716 - accuracy: 0.7026\n",
            "Epoch 9/25\n",
            "32/32 [==============================] - 4s 125ms/step - loss: 0.5430 - accuracy: 0.7355\n",
            "Epoch 10/25\n",
            "32/32 [==============================] - 4s 114ms/step - loss: 0.5433 - accuracy: 0.7255\n",
            "Epoch 11/25\n",
            "32/32 [==============================] - 4s 113ms/step - loss: 0.4991 - accuracy: 0.7575\n",
            "Epoch 12/25\n",
            "32/32 [==============================] - 4s 113ms/step - loss: 0.5140 - accuracy: 0.7405\n",
            "Epoch 13/25\n",
            "32/32 [==============================] - 4s 115ms/step - loss: 0.4740 - accuracy: 0.7794\n",
            "Epoch 14/25\n",
            "32/32 [==============================] - 5s 144ms/step - loss: 0.4928 - accuracy: 0.7625\n",
            "Epoch 15/25\n",
            "32/32 [==============================] - 4s 118ms/step - loss: 0.4732 - accuracy: 0.7754\n",
            "Epoch 16/25\n",
            "32/32 [==============================] - 4s 116ms/step - loss: 0.4536 - accuracy: 0.7844\n",
            "Epoch 17/25\n",
            "32/32 [==============================] - 4s 117ms/step - loss: 0.4333 - accuracy: 0.8064\n",
            "Epoch 18/25\n",
            "32/32 [==============================] - 4s 117ms/step - loss: 0.4525 - accuracy: 0.7834\n",
            "Epoch 19/25\n",
            "32/32 [==============================] - 4s 115ms/step - loss: 0.4396 - accuracy: 0.7934\n",
            "Epoch 20/25\n",
            "32/32 [==============================] - 4s 114ms/step - loss: 0.4180 - accuracy: 0.8024\n",
            "Epoch 21/25\n",
            "32/32 [==============================] - 4s 115ms/step - loss: 0.3785 - accuracy: 0.8303\n",
            "Epoch 22/25\n",
            "32/32 [==============================] - 4s 124ms/step - loss: 0.3639 - accuracy: 0.8323\n",
            "Epoch 23/25\n",
            "32/32 [==============================] - 4s 114ms/step - loss: 0.3656 - accuracy: 0.8473\n",
            "Epoch 24/25\n",
            "32/32 [==============================] - 4s 114ms/step - loss: 0.4071 - accuracy: 0.8064\n",
            "Epoch 25/25\n",
            "32/32 [==============================] - 4s 115ms/step - loss: 0.3845 - accuracy: 0.8263\n"
          ]
        },
        {
          "output_type": "execute_result",
          "data": {
            "text/plain": [
              "<keras.callbacks.History at 0x7f3e2038ee50>"
            ]
          },
          "metadata": {},
          "execution_count": 53
        }
      ]
    },
    {
      "cell_type": "code",
      "source": [
        "y_pred = cnn.predict(test_set)\n"
      ],
      "metadata": {
        "id": "4fdb8DUjX5Od",
        "colab": {
          "base_uri": "https://localhost:8080/"
        },
        "outputId": "a1ec64d7-4049-434f-f7e8-361d16ad934e"
      },
      "execution_count": 54,
      "outputs": [
        {
          "output_type": "stream",
          "name": "stdout",
          "text": [
            "2/2 [==============================] - 0s 37ms/step\n"
          ]
        }
      ]
    },
    {
      "cell_type": "code",
      "source": [
        "import numpy as np\n",
        "from keras.preprocessing import image\n",
        "import numpy as np\n",
        "import tensorflow\n",
        "from keras.preprocessing import image\n",
        "#from tensorflow.keras.applications.m\n",
        "test_image = tensorflow.keras.preprocessing.image.load_img('/content/sample_data/test/test/11.jpg', target_size = (64, 64))\n",
        "test_image = tensorflow.keras.preprocessing.image.img_to_array(test_image)\n",
        "test_image = np.expand_dims(test_image, axis = 0)\n",
        "result = cnn.predict(test_image)\n",
        "training_set.class_indices\n",
        "#print(result)\n",
        "if result[0][2] == 1:\n",
        "    prediction = 'dog'\n",
        "else:\n",
        "    prediction = 'cat'"
      ],
      "metadata": {
        "id": "4PeNu3NRbC3V",
        "colab": {
          "base_uri": "https://localhost:8080/"
        },
        "outputId": "ab04b7a9-8c4f-467b-c43e-4755856e2e4d"
      },
      "execution_count": 64,
      "outputs": [
        {
          "output_type": "stream",
          "name": "stdout",
          "text": [
            "1/1 [==============================] - 0s 16ms/step\n"
          ]
        }
      ]
    },
    {
      "cell_type": "code",
      "source": [
        "print(prediction)\n"
      ],
      "metadata": {
        "id": "NzxCt4cxKdGb",
        "colab": {
          "base_uri": "https://localhost:8080/"
        },
        "outputId": "5b693e6a-517b-4307-eaa2-a4512bbf7599"
      },
      "execution_count": 65,
      "outputs": [
        {
          "output_type": "stream",
          "name": "stdout",
          "text": [
            "cat\n"
          ]
        }
      ]
    }
  ]
}